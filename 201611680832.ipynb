print('hello world')
print(100)
print(123.7)
